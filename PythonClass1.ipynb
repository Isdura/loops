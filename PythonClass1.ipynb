{
  "nbformat": 4,
  "nbformat_minor": 0,
  "metadata": {
    "colab": {
      "provenance": []
    },
    "kernelspec": {
      "name": "python3",
      "display_name": "Python 3"
    },
    "language_info": {
      "name": "python"
    }
  },
  "cells": [
    {
      "cell_type": "markdown",
      "source": [
        "# Class 1"
      ],
      "metadata": {
        "id": "aSSVTw56eYVu"
      }
    },
    {
      "cell_type": "code",
      "execution_count": null,
      "metadata": {
        "colab": {
          "base_uri": "https://localhost:8080/"
        },
        "id": "pU9AkWuiW2EM",
        "outputId": "0b22af00-0e08-44d3-a5d1-397eedbe9b15"
      },
      "outputs": [
        {
          "output_type": "stream",
          "name": "stdout",
          "text": [
            "welcome to python class\n"
          ]
        }
      ],
      "source": [
        "print(\"welcome to python class\")"
      ]
    },
    {
      "cell_type": "markdown",
      "source": [
        "Varaible =  a container which stores some value"
      ],
      "metadata": {
        "id": "A6v9A8arahBt"
      }
    },
    {
      "cell_type": "code",
      "source": [
        "num = 5\n",
        "type (num)"
      ],
      "metadata": {
        "colab": {
          "base_uri": "https://localhost:8080/"
        },
        "id": "9Vr2d-2Fc1QM",
        "outputId": "10d707c7-2478-4a4a-b869-9ac506efacbf"
      },
      "execution_count": null,
      "outputs": [
        {
          "output_type": "execute_result",
          "data": {
            "text/plain": [
              "int"
            ]
          },
          "metadata": {},
          "execution_count": 3
        }
      ]
    },
    {
      "cell_type": "code",
      "source": [
        "name=\"python\"\n",
        "type(name)"
      ],
      "metadata": {
        "colab": {
          "base_uri": "https://localhost:8080/"
        },
        "id": "UqY2P-gFdEKS",
        "outputId": "20ce0d1f-2382-4a60-e8d3-167b2295c0e8"
      },
      "execution_count": null,
      "outputs": [
        {
          "output_type": "execute_result",
          "data": {
            "text/plain": [
              "str"
            ]
          },
          "metadata": {},
          "execution_count": 5
        }
      ]
    },
    {
      "cell_type": "code",
      "source": [
        "num1=5.5\n",
        "type(num1)"
      ],
      "metadata": {
        "colab": {
          "base_uri": "https://localhost:8080/"
        },
        "id": "Eu33s6fGdVXf",
        "outputId": "92e29c00-6c93-4159-82ae-5a399fe08c37"
      },
      "execution_count": null,
      "outputs": [
        {
          "output_type": "execute_result",
          "data": {
            "text/plain": [
              "float"
            ]
          },
          "metadata": {},
          "execution_count": 7
        }
      ]
    },
    {
      "cell_type": "markdown",
      "source": [
        "write a program to convert the temperature c\n",
        "Temperature convertor (C o F)"
      ],
      "metadata": {
        "id": "QhuErabCfvQm"
      }
    },
    {
      "cell_type": "code",
      "source": [
        "formula=25*(9/5)+32\n",
        "print(formula)"
      ],
      "metadata": {
        "colab": {
          "base_uri": "https://localhost:8080/"
        },
        "id": "nnEd8KT3hgTb",
        "outputId": "3f1e8720-2894-4fc8-b31c-2a72606575fc"
      },
      "execution_count": null,
      "outputs": [
        {
          "output_type": "stream",
          "name": "stdout",
          "text": [
            "77.0\n"
          ]
        }
      ]
    },
    {
      "cell_type": "code",
      "source": [
        "celsius=int(input())\n",
        "fahrenheit=(celsius*(9/5))+32"
      ],
      "metadata": {
        "id": "FKqJijzXj2k-"
      },
      "execution_count": null,
      "outputs": []
    },
    {
      "cell_type": "code",
      "source": [
        "# print the value\n",
        "print(fahrenheit)"
      ],
      "metadata": {
        "colab": {
          "base_uri": "https://localhost:8080/"
        },
        "id": "87pqBlcekgq7",
        "outputId": "14895001-9f46-4f34-85bd-c1ad944b39b4"
      },
      "execution_count": null,
      "outputs": [
        {
          "output_type": "stream",
          "name": "stdout",
          "text": [
            "92.30000000000001\n"
          ]
        }
      ]
    },
    {
      "cell_type": "markdown",
      "source": [
        "Function: sequence of steps to complete a task"
      ],
      "metadata": {
        "id": "rY9oi1BDnEPq"
      }
    },
    {
      "cell_type": "code",
      "source": [
        "#defining a function\n",
        "\n",
        "def convert_to_farenheit(celsius):\n",
        "  fahrenheit=(celsius*(9/5)+32)\n",
        "  print(fahrenheit)"
      ],
      "metadata": {
        "id": "wafyxSidpT-u"
      },
      "execution_count": null,
      "outputs": []
    },
    {
      "cell_type": "code",
      "source": [
        "#calling a function\n",
        "convert_to_farenheit(32)"
      ],
      "metadata": {
        "colab": {
          "base_uri": "https://localhost:8080/"
        },
        "id": "j3hx4KAXpxkR",
        "outputId": "ad5053c1-4baa-4797-989a-1ede03b6ca48"
      },
      "execution_count": null,
      "outputs": [
        {
          "output_type": "stream",
          "name": "stdout",
          "text": [
            "89.6\n"
          ]
        }
      ]
    },
    {
      "cell_type": "code",
      "source": [
        "convert_to_farenheit(28)"
      ],
      "metadata": {
        "colab": {
          "base_uri": "https://localhost:8080/"
        },
        "id": "b2WMmxeup6cS",
        "outputId": "9ad6c402-6475-4025-823f-51b1287f7b31"
      },
      "execution_count": null,
      "outputs": [
        {
          "output_type": "stream",
          "name": "stdout",
          "text": [
            "82.4\n"
          ]
        }
      ]
    },
    {
      "cell_type": "markdown",
      "source": [
        "# Homeworks class 1"
      ],
      "metadata": {
        "id": "ngGcUaKyee-M"
      }
    },
    {
      "cell_type": "code",
      "source": [
        "#defining the function for convert cm to inch\n",
        "\n",
        "def convert_to_inch(centimiter):\n",
        "  inch=(centimiter/2,54)\n",
        "  print(inch)"
      ],
      "metadata": {
        "id": "UbA1zHAjSdMv"
      },
      "execution_count": null,
      "outputs": []
    },
    {
      "cell_type": "code",
      "source": [
        "#running the function\n",
        "convert_to_inch(173)"
      ],
      "metadata": {
        "colab": {
          "base_uri": "https://localhost:8080/"
        },
        "id": "UanxLR4RUTA6",
        "outputId": "013628e9-38ba-4a89-8367-85aa32c23d08"
      },
      "execution_count": null,
      "outputs": [
        {
          "output_type": "stream",
          "name": "stdout",
          "text": [
            "(86.5, 54)\n"
          ]
        }
      ]
    },
    {
      "cell_type": "code",
      "source": [
        "#defining the function to find out if year is a lap year\n",
        "\n",
        "def is_lap_year(year):\n"
      ],
      "metadata": {
        "colab": {
          "base_uri": "https://localhost:8080/",
          "height": 108
        },
        "id": "wwv6rsURU6Lv",
        "outputId": "c1a32729-5064-4b82-f5b9-b89c1a8a2ef9"
      },
      "execution_count": null,
      "outputs": [
        {
          "output_type": "error",
          "ename": "SyntaxError",
          "evalue": "incomplete input (<ipython-input-13-16b21d9b4d1f>, line 4)",
          "traceback": [
            "\u001b[0;36m  File \u001b[0;32m\"<ipython-input-13-16b21d9b4d1f>\"\u001b[0;36m, line \u001b[0;32m4\u001b[0m\n\u001b[0;31m    \u001b[0m\n\u001b[0m    ^\u001b[0m\n\u001b[0;31mSyntaxError\u001b[0m\u001b[0;31m:\u001b[0m incomplete input\n"
          ]
        }
      ]
    },
    {
      "cell_type": "code",
      "source": [
        "#defining the program to find out if year is a lap year - correction of exercise\n",
        "\n",
        "year=int(input(\"enter year to be checked:\"))\n",
        "\n",
        "if(year % 4 == 0 and year % 100 !=0 or year %400 ==0):\n",
        "  print(\"Year entered is a leap year\")\n",
        "else:\n",
        "  print(\"Year entered is not a leap year\")\n"
      ],
      "metadata": {
        "colab": {
          "base_uri": "https://localhost:8080/"
        },
        "id": "sEb63ODdhlZ2",
        "outputId": "2354d1c1-8705-4991-aaab-a6385d0ce8d0"
      },
      "execution_count": null,
      "outputs": [
        {
          "output_type": "stream",
          "name": "stdout",
          "text": [
            "enter year to be checked:1800\n",
            "Year entered is not a leap year\n"
          ]
        }
      ]
    },
    {
      "cell_type": "code",
      "source": [
        "#write a program to convert height entered by the user in centimers to inches - Correction of exercise\n",
        "\n",
        "cm = int(input(\"enter height in centimeter:\"))\n",
        "inches = cm*0.394\n",
        "feet= cm*0.328\n",
        "print(\"height in inches\",round(inches,2))\n",
        "print(\"height in feet\",round(feet,2))"
      ],
      "metadata": {
        "colab": {
          "base_uri": "https://localhost:8080/"
        },
        "id": "RekF9WKRrS45",
        "outputId": "cff276ea-4099-47d6-f1f4-2838eebceb5d"
      },
      "execution_count": null,
      "outputs": [
        {
          "output_type": "stream",
          "name": "stdout",
          "text": [
            "enter height in centimeter:184\n",
            "height in inches 72.5\n",
            "height in feet 60.35\n"
          ]
        }
      ]
    }
  ]
}